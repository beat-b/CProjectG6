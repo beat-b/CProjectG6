{
 "cells": [
  {
   "cell_type": "code",
   "execution_count": 1,
   "metadata": {},
   "outputs": [
    {
     "name": "stderr",
     "output_type": "stream",
     "text": [
      "[nltk_data] Downloading package vader_lexicon to\n",
      "[nltk_data]     C:\\Users\\abdar\\AppData\\Roaming\\nltk_data...\n",
      "[nltk_data]   Package vader_lexicon is already up-to-date!\n"
     ]
    }
   ],
   "source": [
    "import pandas as pd\n",
    "import numpy as np\n",
    "import re\n",
    "import nltk\n",
    "#Preprocessing: tokenization and lemmatization\n",
    "from nltk.tokenize import word_tokenize, sent_tokenize\n",
    "from nltk.tokenize import PunktSentenceTokenizer\n",
    "from nltk.stem import WordNetLemmatizer\n",
    "lemmatizer = WordNetLemmatizer()\n",
    "sent_tokenizer = PunktSentenceTokenizer()\n",
    "\n",
    "#Sentiment Analysis with VADER\n",
    "nltk.download('vader_lexicon')\n",
    "from nltk.sentiment.vader import SentimentIntensityAnalyzer\n",
    "\n",
    "from sklearn.model_selection import train_test_split\n",
    "from sklearn.ensemble import RandomForestRegressor\n",
    "from sklearn.metrics import mean_squared_error\n",
    "from sklearn.feature_extraction.text import TfidfVectorizer\n",
    "from sklearn.pipeline import Pipeline\n",
    "from sklearn.compose import ColumnTransformer\n"
   ]
  },
  {
   "cell_type": "code",
   "execution_count": 2,
   "metadata": {},
   "outputs": [],
   "source": [
    "reviews_df = pd.read_csv('./data/reviews.csv')"
   ]
  },
  {
   "cell_type": "code",
   "execution_count": 3,
   "metadata": {},
   "outputs": [],
   "source": [
    "def sentiment_preprocessor(raw_text, lowercase=True, leave_punctuation = False, lemmatization=True, tokenized_output=True, sentence_output=True):\n",
    "    \n",
    "\n",
    "    # Convert to lowercase if specified\n",
    "    if lowercase:\n",
    "        clean_text = raw_text.lower()\n",
    "    else:\n",
    "        clean_text = raw_text\n",
    "    \n",
    "    # Remove newline characters\n",
    "    clean_text = re.sub(r'(\\*|\\\\n|\\\\r|\\\\t|</?ul>|</?li>)', ' ', clean_text)\n",
    "\n",
    "    # Remove punctuation if specified\n",
    "    if not leave_punctuation:\n",
    "        clean_text = re.sub(r'(\\W)', ' ', clean_text)\n",
    "\n",
    "    # Remove URLs\n",
    "    clean_text = re.sub(r'(http\\S+|www\\S+)', ' ', clean_text)\n",
    "\n",
    "    # Remove isolated consonants\n",
    "    clean_text = re.sub(r'\\b([^aeiou\\s])\\b', ' ', clean_text)\n",
    "\n",
    "    # Tokenize\n",
    "    clean_text = word_tokenize(clean_text)\n",
    "\n",
    "    # Lemmatize if specified\n",
    "    if lemmatization:\n",
    "        clean_text = [lemmatizer.lemmatize(token, pos='v') for token in clean_text]\n",
    "\n",
    "    # Re-join if tokenized output is not requested\n",
    "    if not tokenized_output:\n",
    "        clean_text = \" \".join(clean_text)\n",
    "        # Remove space before punctuation\n",
    "        clean_text = re.sub(r'(\\s)(?!\\w)', '', clean_text)\n",
    "\n",
    "    # Join sentences into a single string if specified\n",
    "    if sentence_output and not tokenized_output:\n",
    "        clean_text = \" \".join(sent_tokenize(clean_text))\n",
    "\n",
    "    return clean_text"
   ]
  },
  {
   "cell_type": "code",
   "execution_count": 4,
   "metadata": {},
   "outputs": [],
   "source": [
    "reviews_df['CleanReview'] = reviews_df['Review'].apply(lambda review: sentiment_preprocessor(\n",
    "    review, lowercase = False, \n",
    "    leave_punctuation = True, \n",
    "    lemmatization=False, \n",
    "    tokenized_output=False))"
   ]
  },
  {
   "cell_type": "code",
   "execution_count": 5,
   "metadata": {},
   "outputs": [],
   "source": [
    "vader = SentimentIntensityAnalyzer()"
   ]
  },
  {
   "cell_type": "code",
   "execution_count": 6,
   "metadata": {},
   "outputs": [],
   "source": [
    "# Analyse polarity and add results to dataframe\n",
    "reviews_df['Vader'] = reviews_df['CleanReview'].apply(lambda x: vader.polarity_scores(x))\n",
    "reviews_df['Negative_vader'] = reviews_df['Vader'].apply(lambda x: x['neg'])\n",
    "reviews_df['Neutral_vader'] = reviews_df['Vader'].apply(lambda x: x['neu'])\n",
    "reviews_df['Positive_vader'] = reviews_df['Vader'].apply(lambda x: x['pos'])\n",
    "reviews_df['Compound_vader'] = reviews_df['Vader'].apply(lambda x: x['compound'])"
   ]
  },
  {
   "cell_type": "code",
   "execution_count": 7,
   "metadata": {},
   "outputs": [],
   "source": [
    "# Drop column with polarity scores\n",
    "reviews_df.drop('Vader', axis=1, inplace=True)"
   ]
  },
  {
   "cell_type": "code",
   "execution_count": 8,
   "metadata": {},
   "outputs": [],
   "source": [
    "# Name of the columns related with vader\n",
    "vader_cols = ['Negative_vader', 'Neutral_vader', 'Positive_vader', 'Compound_vader']"
   ]
  },
  {
   "cell_type": "code",
   "execution_count": 9,
   "metadata": {},
   "outputs": [
    {
     "data": {
      "text/html": [
       "<div>\n",
       "<style scoped>\n",
       "    .dataframe tbody tr th:only-of-type {\n",
       "        vertical-align: middle;\n",
       "    }\n",
       "\n",
       "    .dataframe tbody tr th {\n",
       "        vertical-align: top;\n",
       "    }\n",
       "\n",
       "    .dataframe thead th {\n",
       "        text-align: right;\n",
       "    }\n",
       "</style>\n",
       "<table border=\"1\" class=\"dataframe\">\n",
       "  <thead>\n",
       "    <tr style=\"text-align: right;\">\n",
       "      <th></th>\n",
       "      <th>Negative_vader</th>\n",
       "      <th>Neutral_vader</th>\n",
       "      <th>Positive_vader</th>\n",
       "      <th>Compound_vader</th>\n",
       "    </tr>\n",
       "  </thead>\n",
       "  <tbody>\n",
       "    <tr>\n",
       "      <th>count</th>\n",
       "      <td>587.000000</td>\n",
       "      <td>587.000000</td>\n",
       "      <td>587.000000</td>\n",
       "      <td>587.000000</td>\n",
       "    </tr>\n",
       "    <tr>\n",
       "      <th>mean</th>\n",
       "      <td>0.008245</td>\n",
       "      <td>0.859063</td>\n",
       "      <td>0.131000</td>\n",
       "      <td>0.469345</td>\n",
       "    </tr>\n",
       "    <tr>\n",
       "      <th>std</th>\n",
       "      <td>0.014450</td>\n",
       "      <td>0.152677</td>\n",
       "      <td>0.141421</td>\n",
       "      <td>0.481055</td>\n",
       "    </tr>\n",
       "    <tr>\n",
       "      <th>min</th>\n",
       "      <td>0.000000</td>\n",
       "      <td>0.000000</td>\n",
       "      <td>0.000000</td>\n",
       "      <td>-0.526700</td>\n",
       "    </tr>\n",
       "    <tr>\n",
       "      <th>25%</th>\n",
       "      <td>0.000000</td>\n",
       "      <td>0.719000</td>\n",
       "      <td>0.000000</td>\n",
       "      <td>0.000000</td>\n",
       "    </tr>\n",
       "    <tr>\n",
       "      <th>50%</th>\n",
       "      <td>0.000000</td>\n",
       "      <td>0.947000</td>\n",
       "      <td>0.000000</td>\n",
       "      <td>0.000000</td>\n",
       "    </tr>\n",
       "    <tr>\n",
       "      <th>75%</th>\n",
       "      <td>0.018000</td>\n",
       "      <td>1.000000</td>\n",
       "      <td>0.260500</td>\n",
       "      <td>0.968750</td>\n",
       "    </tr>\n",
       "    <tr>\n",
       "      <th>max</th>\n",
       "      <td>0.094000</td>\n",
       "      <td>1.000000</td>\n",
       "      <td>0.677000</td>\n",
       "      <td>0.996800</td>\n",
       "    </tr>\n",
       "  </tbody>\n",
       "</table>\n",
       "</div>"
      ],
      "text/plain": [
       "       Negative_vader  Neutral_vader  Positive_vader  Compound_vader\n",
       "count      587.000000     587.000000      587.000000      587.000000\n",
       "mean         0.008245       0.859063        0.131000        0.469345\n",
       "std          0.014450       0.152677        0.141421        0.481055\n",
       "min          0.000000       0.000000        0.000000       -0.526700\n",
       "25%          0.000000       0.719000        0.000000        0.000000\n",
       "50%          0.000000       0.947000        0.000000        0.000000\n",
       "75%          0.018000       1.000000        0.260500        0.968750\n",
       "max          0.094000       1.000000        0.677000        0.996800"
      ]
     },
     "execution_count": 9,
     "metadata": {},
     "output_type": "execute_result"
    }
   ],
   "source": [
    "reviews_df[vader_cols].describe()"
   ]
  },
  {
   "cell_type": "code",
   "execution_count": 10,
   "metadata": {},
   "outputs": [],
   "source": [
    "# Define features and target variable\n",
    "X = reviews_df[['OverallRating', 'CleanReview'] + vader_cols]\n",
    "y = reviews_df['Rating']"
   ]
  },
  {
   "cell_type": "code",
   "execution_count": 11,
   "metadata": {},
   "outputs": [],
   "source": [
    "# Split the data into training, validation, and testing sets\n",
    "X_train, X_temp, y_train, y_temp = train_test_split(X, y, test_size=0.3, random_state=42)\n",
    "X_val, X_test, y_val, y_test = train_test_split(X_temp, y_temp, test_size=0.5, random_state=42)"
   ]
  },
  {
   "cell_type": "code",
   "execution_count": 12,
   "metadata": {},
   "outputs": [],
   "source": [
    "# Create a ColumnTransformer to handle different feature types\n",
    "# In this case, we'll use TF-IDF for text (customer reviews) and passthrough for other variables\n",
    "preprocessor = ColumnTransformer(\n",
    "    transformers=[\n",
    "        ('text', TfidfVectorizer(), 'CleanReview'),\n",
    "        ('numeric', 'passthrough', ['OverallRating', 'Negative_vader', 'Neutral_vader', 'Positive_vader', 'Compound_vader'])\n",
    "    ])"
   ]
  },
  {
   "cell_type": "code",
   "execution_count": 13,
   "metadata": {},
   "outputs": [],
   "source": [
    "# Combine the preprocessor with a regressor (RandomForestRegressor in this case)\n",
    "model = RandomForestRegressor(n_estimators=100, random_state=42)"
   ]
  },
  {
   "cell_type": "code",
   "execution_count": 14,
   "metadata": {},
   "outputs": [],
   "source": [
    "# Create a pipeline\n",
    "pipeline = Pipeline([\n",
    "    ('preprocessor', preprocessor),\n",
    "    ('model', model)\n",
    "])"
   ]
  },
  {
   "cell_type": "code",
   "execution_count": 15,
   "metadata": {},
   "outputs": [],
   "source": [
    "# Fit the model on training data\n",
    "pipeline.fit(X_train, y_train)\n",
    "\n",
    "# Make predictions on validation set\n",
    "y_val_pred = pipeline.predict(X_val)\n",
    "\n",
    "# Evaluate the model on validation set\n",
    "rmse_val = np.sqrt(mean_squared_error(y_val, y_val_pred))\n",
    "print(f'Root Mean Squared Error on Validation Set: {rmse_val}')\n",
    "\n",
    "# Make predictions on test set\n",
    "y_test_pred = pipeline.predict(X_test)\n",
    "\n",
    "# Evaluate the model on test set\n",
    "rmse_test = np.sqrt(mean_squared_error(y_test, y_test_pred))\n",
    "print(f'Root Mean Squared Error on Test Set: {rmse_test}')"
   ]
  }
 ],
 "metadata": {
  "kernelspec": {
   "display_name": "env",
   "language": "python",
   "name": "python3"
  },
  "language_info": {
   "codemirror_mode": {
    "name": "ipython",
    "version": 3
   },
   "file_extension": ".py",
   "mimetype": "text/x-python",
   "name": "python",
   "nbconvert_exporter": "python",
   "pygments_lexer": "ipython3",
   "version": "3.11.5"
  }
 },
 "nbformat": 4,
 "nbformat_minor": 2
}
