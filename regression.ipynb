{
 "cells": [
  {
   "cell_type": "markdown",
   "metadata": {},
   "source": [
    "Positive >= 0.05\n",
    "\n",
    "Neutral between -0.05 and 0.05\n",
    "\n",
    "Negative <= -0.05"
   ]
  },
  {
   "cell_type": "code",
   "execution_count": 16,
   "metadata": {},
   "outputs": [],
   "source": [
    "import pandas as pd\n",
    "reviews_df = pd.read_csv('./data/reviews.csv')"
   ]
  },
  {
   "cell_type": "code",
   "execution_count": 17,
   "metadata": {},
   "outputs": [
    {
     "name": "stderr",
     "output_type": "stream",
     "text": [
      "[nltk_data] Downloading package vader_lexicon to\n",
      "[nltk_data]     C:\\Users\\abdar\\AppData\\Roaming\\nltk_data...\n",
      "[nltk_data]   Package vader_lexicon is already up-to-date!\n"
     ]
    }
   ],
   "source": [
    "#pandas and numpy for df manipulation\n",
    "import pandas as pd\n",
    "import numpy as np\n",
    "import re\n",
    "import nltk\n",
    "import statistics\n",
    "\n",
    "#Preprocessing: tokenization and lemmatization\n",
    "from nltk.tokenize import word_tokenize, sent_tokenize\n",
    "from nltk.tokenize import PunktSentenceTokenizer\n",
    "from nltk.stem import WordNetLemmatizer\n",
    "lemmatizer = WordNetLemmatizer()\n",
    "sent_tokenizer = PunktSentenceTokenizer()\n",
    "\n",
    "#Sentiment Analysis with VADER\n",
    "nltk.download('vader_lexicon')\n",
    "from nltk.sentiment.vader import SentimentIntensityAnalyzer\n"
   ]
  },
  {
   "cell_type": "code",
   "execution_count": 18,
   "metadata": {},
   "outputs": [],
   "source": [
    "def sentiment_preprocessor(raw_text, lowercase=True, leave_punctuation = False, lemmatization=True, tokenized_output=True, sentence_output=True):\n",
    "    \n",
    "\n",
    "    # Convert to lowercase if specified\n",
    "    if lowercase:\n",
    "        clean_text = raw_text.lower()\n",
    "    else:\n",
    "        clean_text = raw_text\n",
    "    \n",
    "    # Remove newline characters\n",
    "    clean_text = re.sub(r'(\\*|\\\\n|\\\\r|\\\\t|</?ul>|</?li>)', ' ', clean_text)\n",
    "\n",
    "    # Remove punctuation if specified\n",
    "    if not leave_punctuation:\n",
    "        clean_text = re.sub(r'(\\W)', ' ', clean_text)\n",
    "\n",
    "    # Remove URLs\n",
    "    clean_text = re.sub(r'(http\\S+|www\\S+)', ' ', clean_text)\n",
    "\n",
    "    # Remove isolated consonants\n",
    "    clean_text = re.sub(r'\\b([^aeiou\\s])\\b', ' ', clean_text)\n",
    "\n",
    "    # Tokenize\n",
    "    clean_text = word_tokenize(clean_text)\n",
    "\n",
    "    # Lemmatize if specified\n",
    "    if lemmatization:\n",
    "        clean_text = [lemmatizer.lemmatize(token, pos='v') for token in clean_text]\n",
    "\n",
    "    # Re-join if tokenized output is not requested\n",
    "    if not tokenized_output:\n",
    "        clean_text = \" \".join(clean_text)\n",
    "        # Remove space before punctuation\n",
    "        clean_text = re.sub(r'(\\s)(?!\\w)', '', clean_text)\n",
    "\n",
    "    # Join sentences into a single string if specified\n",
    "    if sentence_output and not tokenized_output:\n",
    "        clean_text = \" \".join(sent_tokenize(clean_text))\n",
    "\n",
    "    return clean_text"
   ]
  },
  {
   "cell_type": "code",
   "execution_count": 19,
   "metadata": {},
   "outputs": [],
   "source": [
    "reviews_df['CleanReview'] = reviews_df['Review'].apply(lambda review: sentiment_preprocessor(\n",
    "    review, lowercase = False, \n",
    "    leave_punctuation = True, \n",
    "    lemmatization=False, \n",
    "    tokenized_output=False))"
   ]
  },
  {
   "cell_type": "code",
   "execution_count": 20,
   "metadata": {},
   "outputs": [],
   "source": [
    "vader = SentimentIntensityAnalyzer()"
   ]
  },
  {
   "cell_type": "code",
   "execution_count": 21,
   "metadata": {},
   "outputs": [],
   "source": [
    "# Analyse polarity and add results to dataframe\n",
    "reviews_df['Vader'] = reviews_df['CleanReview'].apply(lambda x: vader.polarity_scores(x))\n",
    "reviews_df['Negative_vader'] = reviews_df['Vader'].apply(lambda x: x['neg'])\n",
    "reviews_df['Neutral_vader'] = reviews_df['Vader'].apply(lambda x: x['neu'])\n",
    "reviews_df['Positive_vader'] = reviews_df['Vader'].apply(lambda x: x['pos'])\n",
    "reviews_df['Compound_vader'] = reviews_df['Vader'].apply(lambda x: x['compound'])"
   ]
  },
  {
   "cell_type": "code",
   "execution_count": 22,
   "metadata": {},
   "outputs": [],
   "source": [
    "# Drop column with polarity scores\n",
    "reviews_df.drop('Vader', axis=1, inplace=True)"
   ]
  },
  {
   "cell_type": "code",
   "execution_count": 23,
   "metadata": {},
   "outputs": [],
   "source": [
    "# Name of the columns related with vader\n",
    "vader_cols = ['Negative_vader', 'Neutral_vader', 'Positive_vader', 'Compound_vader']"
   ]
  },
  {
   "cell_type": "code",
   "execution_count": 24,
   "metadata": {},
   "outputs": [
    {
     "data": {
      "text/html": [
       "<div>\n",
       "<style scoped>\n",
       "    .dataframe tbody tr th:only-of-type {\n",
       "        vertical-align: middle;\n",
       "    }\n",
       "\n",
       "    .dataframe tbody tr th {\n",
       "        vertical-align: top;\n",
       "    }\n",
       "\n",
       "    .dataframe thead th {\n",
       "        text-align: right;\n",
       "    }\n",
       "</style>\n",
       "<table border=\"1\" class=\"dataframe\">\n",
       "  <thead>\n",
       "    <tr style=\"text-align: right;\">\n",
       "      <th></th>\n",
       "      <th>Negative_vader</th>\n",
       "      <th>Neutral_vader</th>\n",
       "      <th>Positive_vader</th>\n",
       "      <th>Compound_vader</th>\n",
       "    </tr>\n",
       "  </thead>\n",
       "  <tbody>\n",
       "    <tr>\n",
       "      <th>count</th>\n",
       "      <td>587.000000</td>\n",
       "      <td>587.000000</td>\n",
       "      <td>587.000000</td>\n",
       "      <td>587.000000</td>\n",
       "    </tr>\n",
       "    <tr>\n",
       "      <th>mean</th>\n",
       "      <td>0.008245</td>\n",
       "      <td>0.859063</td>\n",
       "      <td>0.131000</td>\n",
       "      <td>0.469345</td>\n",
       "    </tr>\n",
       "    <tr>\n",
       "      <th>std</th>\n",
       "      <td>0.014450</td>\n",
       "      <td>0.152677</td>\n",
       "      <td>0.141421</td>\n",
       "      <td>0.481055</td>\n",
       "    </tr>\n",
       "    <tr>\n",
       "      <th>min</th>\n",
       "      <td>0.000000</td>\n",
       "      <td>0.000000</td>\n",
       "      <td>0.000000</td>\n",
       "      <td>-0.526700</td>\n",
       "    </tr>\n",
       "    <tr>\n",
       "      <th>25%</th>\n",
       "      <td>0.000000</td>\n",
       "      <td>0.719000</td>\n",
       "      <td>0.000000</td>\n",
       "      <td>0.000000</td>\n",
       "    </tr>\n",
       "    <tr>\n",
       "      <th>50%</th>\n",
       "      <td>0.000000</td>\n",
       "      <td>0.947000</td>\n",
       "      <td>0.000000</td>\n",
       "      <td>0.000000</td>\n",
       "    </tr>\n",
       "    <tr>\n",
       "      <th>75%</th>\n",
       "      <td>0.018000</td>\n",
       "      <td>1.000000</td>\n",
       "      <td>0.260500</td>\n",
       "      <td>0.968750</td>\n",
       "    </tr>\n",
       "    <tr>\n",
       "      <th>max</th>\n",
       "      <td>0.094000</td>\n",
       "      <td>1.000000</td>\n",
       "      <td>0.677000</td>\n",
       "      <td>0.996800</td>\n",
       "    </tr>\n",
       "  </tbody>\n",
       "</table>\n",
       "</div>"
      ],
      "text/plain": [
       "       Negative_vader  Neutral_vader  Positive_vader  Compound_vader\n",
       "count      587.000000     587.000000      587.000000      587.000000\n",
       "mean         0.008245       0.859063        0.131000        0.469345\n",
       "std          0.014450       0.152677        0.141421        0.481055\n",
       "min          0.000000       0.000000        0.000000       -0.526700\n",
       "25%          0.000000       0.719000        0.000000        0.000000\n",
       "50%          0.000000       0.947000        0.000000        0.000000\n",
       "75%          0.018000       1.000000        0.260500        0.968750\n",
       "max          0.094000       1.000000        0.677000        0.996800"
      ]
     },
     "execution_count": 24,
     "metadata": {},
     "output_type": "execute_result"
    }
   ],
   "source": [
    "reviews_df[vader_cols].describe()"
   ]
  },
  {
   "cell_type": "code",
   "execution_count": 25,
   "metadata": {},
   "outputs": [],
   "source": [
    "# Classify sentiment based on compound score\n",
    "reviews_df['Sentiment'] = reviews_df['Compound_vader'].apply(lambda x: 'positive' if x > 0 else 'negative' if x < 0 else 'neutral')"
   ]
  },
  {
   "cell_type": "code",
   "execution_count": 26,
   "metadata": {},
   "outputs": [],
   "source": [
    "from sklearn.model_selection import train_test_split\n",
    "from sklearn.metrics import accuracy_score, classification_report, confusion_matrix"
   ]
  },
  {
   "cell_type": "code",
   "execution_count": 27,
   "metadata": {},
   "outputs": [],
   "source": [
    "# Split the data into training and testing sets (you may have a different dataset)\n",
    "train_data, test_data, train_labels, test_labels = train_test_split(\n",
    "    reviews_df['CleanReview'], reviews_df['Sentiment'], test_size=0.2, random_state=42\n",
    ")\n"
   ]
  },
  {
   "cell_type": "code",
   "execution_count": 30,
   "metadata": {},
   "outputs": [
    {
     "ename": "ValueError",
     "evalue": "Unknown label type: (array([5. , 3.4, 3.4, 3.8, 3.7, 4.8, 4.8, 4.4, 3.1, 3.9, 4.9, 4.3, 3.7,\n       4.5, 4.5, 4.7, 4.3, 3.4, 3.8, 4.4, 3.6, 4.6, 3.5, 4.8, 3.1, 3.5,\n       2.4, 3. , 4.9, 4.8, 3.5, 2.9, 3.3, 5. , 3.2, 2.7, 2.2, 4.2, 4.7,\n       3.1, 4.2, 4.5, 4.9, 3.5, 3.9, 3.8, 5. , 3.1, 2.7, 3.2, 4.7, 2.4,\n       3.4, 4.7, 4.8, 1.3, 4.4, 3.9, 2.2, 2.2, 3.8, 3.6, 4.8, 2.7, 3.4,\n       4.1, 4.2, 4.7, 4.9, 4.6, 1.1, 3.2, 2.9, 3.9, 3.4, 4.3, 4.5, 3.6,\n       4. , 4.5, 3.7, 3.3, 3.6, 4.1, 2.7, 4. , 3.2, 4.3, 4.7, 3.7, 3.9,\n       3.6, 4.8, 3.2, 3.5, 4.2, 4.4, 2.6, 2.7, 2.9, 4.9, 4.7, 3.9, 5. ,\n       4.5, 4.9, 4.7, 4.8, 4.4, 1.4, 4.3, 3.6, 3.9, 3.2, 2.5, 4.6, 3.8,\n       4.1, 3.6, 3.4, 4.9, 4.2, 4.3, 4. , 4.4, 3. , 3. , 3.1, 4.4, 4.2,\n       4.6, 4.4, 4.5, 4.9, 4.6, 3.1, 3.4, 4.4, 4.5, 2.3, 3.3, 5. , 3.8,\n       4.3, 4.5, 4.1, 4.6, 4.6, 4.1, 3.3, 3.3, 3.9, 3.9, 0.1, 3.2, 3.6,\n       3.4, 4.2, 4.4, 4.9, 2.7, 3.8, 3.5, 4.9, 3.5, 4.9, 4.7, 4.5, 4.2,\n       2.4, 3.9, 3.4, 1.8, 4.5, 4.9, 4.5, 3.9, 5. , 3.8, 4.6, 3.1, 4.8,\n       4.1, 3.8, 3.2, 3.9, 3.4, 4.7, 5. , 4.7, 4.3, 3.3, 4.5, 4.6, 4.2,\n       2.6, 4.5, 2.2, 3.2, 4.2, 3.5, 4.3, 3.2, 4.2, 3.1, 3.4, 3.7, 4.2,\n       3.5, 3.9, 4.8, 4.7, 5. , 3.9, 2.7, 4.7, 3.9, 4.5, 3.8, 3.2, 4.9,\n       3.4, 4.4, 2.5, 4.5, 2.7, 4.5, 3.5, 4.3, 3.8, 4.4, 3.8, 4.6, 3.5,\n       4.9, 1.9, 4.5, 4.1, 4.5, 3.4, 3.4, 3.2, 4.3, 4.5, 1.1, 5. , 4.3,\n       4.1, 2.5, 2.2, 3.5, 4.9, 4.8, 3.7, 4.3, 3.4, 4.2, 4.7, 3.8, 2.8,\n       3.2, 4.2, 3. , 4.3, 3.5, 2.8, 3.5, 4.5, 4.9, 4.6, 4.9, 3.5, 4.4,\n       3.2, 3.1, 3.8, 4.4, 4.3, 4.3, 2.2, 3.9, 4.6, 4.8, 4.8, 4.4, 3.5,\n       2.4, 3.1, 4.5, 3.4, 4.3, 3.4, 3.3, 4.7, 4.1, 2.5, 3.9, 4. , 5. ,\n       4.3, 3.5, 3.4, 4.9, 4.6, 2.3, 3.2, 3.9, 2.3, 3.6, 4.7, 4.7, 3.4,\n       3.9, 4.4, 0.4, 4. , 3.9, 4.4, 4.8, 4.8, 3.4, 4.4, 4.7, 3.5, 3.2,\n       4.6, 2.6, 4.5, 4.7, 3.8, 2.7, 3.5, 4.2, 4.7, 4.7, 4.5, 4.3, 2.4,\n       4.2, 4.6, 3.4, 4.3, 4.2, 4.8, 3.8, 4.6, 4.4, 3.5, 4.6, 4.4, 4.9,\n       2.4, 3.9, 3.6, 3.1, 5. , 4.5, 2.2, 3.4, 0.8, 3.2, 3.7, 4.5, 4.4,\n       4.6, 4.8, 2.6, 3.6, 2.2, 4.9, 2.8, 4.2, 3.8, 3.9, 3.9, 4.8, 2.5,\n       4.9, 3.4, 2.3, 4.2, 4.5, 4. , 4.4, 4.5, 3.8, 4.9, 3.2, 3.9, 4.3,\n       2.9, 4.8, 4.5, 3.2, 3.9, 1.6, 2.9, 3.4, 4.4, 2.8, 4.2, 4.2, 4.3,\n       4.4, 5. , 4.5, 4.9, 3.3, 4.4, 4.7, 4.6, 3.7, 4.8, 4.3, 4.2, 1.9,\n       4.9, 3.4, 4.3, 3.4, 3.3, 3.9, 4.8, 4.6, 4.3, 4.1, 4.7, 3.6, 4.2,\n       3.6, 3.2, 3.2, 4.5, 4.2, 4.4, 3.5, 2.4, 3.9, 3.4, 3.8, 4.4, 3.8,\n       3.5, 4.9, 2.7, 4. , 0.8, 3.8, 3.3, 4.1, 4.5, 3.2, 3.1, 3.6, 2.2,\n       5. , 3.8, 4.1, 4.5, 4.9, 3.9, 3.5, 3.8, 2.4, 2.6, 3.8, 5. , 3.8,\n       3.6]),)",
     "output_type": "error",
     "traceback": [
      "\u001b[1;31m---------------------------------------------------------------------------\u001b[0m",
      "\u001b[1;31mValueError\u001b[0m                                Traceback (most recent call last)",
      "Cell \u001b[1;32mIn[30], line 30\u001b[0m\n\u001b[0;32m     28\u001b[0m \u001b[38;5;66;03m# Train a Naive Bayes classifier\u001b[39;00m\n\u001b[0;32m     29\u001b[0m classifier \u001b[38;5;241m=\u001b[39m MultinomialNB()\n\u001b[1;32m---> 30\u001b[0m \u001b[43mclassifier\u001b[49m\u001b[38;5;241;43m.\u001b[39;49m\u001b[43mfit\u001b[49m\u001b[43m(\u001b[49m\u001b[43mX_train_vectorized\u001b[49m\u001b[43m,\u001b[49m\u001b[43m \u001b[49m\u001b[43my_train\u001b[49m\u001b[43m)\u001b[49m\n\u001b[0;32m     32\u001b[0m \u001b[38;5;66;03m# Predict ratings on the test set\u001b[39;00m\n\u001b[0;32m     33\u001b[0m y_pred \u001b[38;5;241m=\u001b[39m classifier\u001b[38;5;241m.\u001b[39mpredict(X_test_vectorized)\n",
      "File \u001b[1;32mc:\\Users\\abdar\\Desktop\\Universidade\\3ºAno\\1ºSemestre\\Capstone Project\\CProjectG6\\env\\Lib\\site-packages\\sklearn\\base.py:1152\u001b[0m, in \u001b[0;36m_fit_context.<locals>.decorator.<locals>.wrapper\u001b[1;34m(estimator, *args, **kwargs)\u001b[0m\n\u001b[0;32m   1145\u001b[0m     estimator\u001b[38;5;241m.\u001b[39m_validate_params()\n\u001b[0;32m   1147\u001b[0m \u001b[38;5;28;01mwith\u001b[39;00m config_context(\n\u001b[0;32m   1148\u001b[0m     skip_parameter_validation\u001b[38;5;241m=\u001b[39m(\n\u001b[0;32m   1149\u001b[0m         prefer_skip_nested_validation \u001b[38;5;129;01mor\u001b[39;00m global_skip_validation\n\u001b[0;32m   1150\u001b[0m     )\n\u001b[0;32m   1151\u001b[0m ):\n\u001b[1;32m-> 1152\u001b[0m     \u001b[38;5;28;01mreturn\u001b[39;00m \u001b[43mfit_method\u001b[49m\u001b[43m(\u001b[49m\u001b[43mestimator\u001b[49m\u001b[43m,\u001b[49m\u001b[43m \u001b[49m\u001b[38;5;241;43m*\u001b[39;49m\u001b[43margs\u001b[49m\u001b[43m,\u001b[49m\u001b[43m \u001b[49m\u001b[38;5;241;43m*\u001b[39;49m\u001b[38;5;241;43m*\u001b[39;49m\u001b[43mkwargs\u001b[49m\u001b[43m)\u001b[49m\n",
      "File \u001b[1;32mc:\\Users\\abdar\\Desktop\\Universidade\\3ºAno\\1ºSemestre\\Capstone Project\\CProjectG6\\env\\Lib\\site-packages\\sklearn\\naive_bayes.py:749\u001b[0m, in \u001b[0;36m_BaseDiscreteNB.fit\u001b[1;34m(self, X, y, sample_weight)\u001b[0m\n\u001b[0;32m    746\u001b[0m _, n_features \u001b[38;5;241m=\u001b[39m X\u001b[38;5;241m.\u001b[39mshape\n\u001b[0;32m    748\u001b[0m labelbin \u001b[38;5;241m=\u001b[39m LabelBinarizer()\n\u001b[1;32m--> 749\u001b[0m Y \u001b[38;5;241m=\u001b[39m \u001b[43mlabelbin\u001b[49m\u001b[38;5;241;43m.\u001b[39;49m\u001b[43mfit_transform\u001b[49m\u001b[43m(\u001b[49m\u001b[43my\u001b[49m\u001b[43m)\u001b[49m\n\u001b[0;32m    750\u001b[0m \u001b[38;5;28mself\u001b[39m\u001b[38;5;241m.\u001b[39mclasses_ \u001b[38;5;241m=\u001b[39m labelbin\u001b[38;5;241m.\u001b[39mclasses_\n\u001b[0;32m    751\u001b[0m \u001b[38;5;28;01mif\u001b[39;00m Y\u001b[38;5;241m.\u001b[39mshape[\u001b[38;5;241m1\u001b[39m] \u001b[38;5;241m==\u001b[39m \u001b[38;5;241m1\u001b[39m:\n",
      "File \u001b[1;32mc:\\Users\\abdar\\Desktop\\Universidade\\3ºAno\\1ºSemestre\\Capstone Project\\CProjectG6\\env\\Lib\\site-packages\\sklearn\\preprocessing\\_label.py:329\u001b[0m, in \u001b[0;36mLabelBinarizer.fit_transform\u001b[1;34m(self, y)\u001b[0m\n\u001b[0;32m    309\u001b[0m \u001b[38;5;28;01mdef\u001b[39;00m \u001b[38;5;21mfit_transform\u001b[39m(\u001b[38;5;28mself\u001b[39m, y):\n\u001b[0;32m    310\u001b[0m \u001b[38;5;250m    \u001b[39m\u001b[38;5;124;03m\"\"\"Fit label binarizer/transform multi-class labels to binary labels.\u001b[39;00m\n\u001b[0;32m    311\u001b[0m \n\u001b[0;32m    312\u001b[0m \u001b[38;5;124;03m    The output of transform is sometimes referred to as\u001b[39;00m\n\u001b[1;32m   (...)\u001b[0m\n\u001b[0;32m    327\u001b[0m \u001b[38;5;124;03m        will be of CSR format.\u001b[39;00m\n\u001b[0;32m    328\u001b[0m \u001b[38;5;124;03m    \"\"\"\u001b[39;00m\n\u001b[1;32m--> 329\u001b[0m     \u001b[38;5;28;01mreturn\u001b[39;00m \u001b[38;5;28;43mself\u001b[39;49m\u001b[38;5;241;43m.\u001b[39;49m\u001b[43mfit\u001b[49m\u001b[43m(\u001b[49m\u001b[43my\u001b[49m\u001b[43m)\u001b[49m\u001b[38;5;241m.\u001b[39mtransform(y)\n",
      "File \u001b[1;32mc:\\Users\\abdar\\Desktop\\Universidade\\3ºAno\\1ºSemestre\\Capstone Project\\CProjectG6\\env\\Lib\\site-packages\\sklearn\\base.py:1152\u001b[0m, in \u001b[0;36m_fit_context.<locals>.decorator.<locals>.wrapper\u001b[1;34m(estimator, *args, **kwargs)\u001b[0m\n\u001b[0;32m   1145\u001b[0m     estimator\u001b[38;5;241m.\u001b[39m_validate_params()\n\u001b[0;32m   1147\u001b[0m \u001b[38;5;28;01mwith\u001b[39;00m config_context(\n\u001b[0;32m   1148\u001b[0m     skip_parameter_validation\u001b[38;5;241m=\u001b[39m(\n\u001b[0;32m   1149\u001b[0m         prefer_skip_nested_validation \u001b[38;5;129;01mor\u001b[39;00m global_skip_validation\n\u001b[0;32m   1150\u001b[0m     )\n\u001b[0;32m   1151\u001b[0m ):\n\u001b[1;32m-> 1152\u001b[0m     \u001b[38;5;28;01mreturn\u001b[39;00m \u001b[43mfit_method\u001b[49m\u001b[43m(\u001b[49m\u001b[43mestimator\u001b[49m\u001b[43m,\u001b[49m\u001b[43m \u001b[49m\u001b[38;5;241;43m*\u001b[39;49m\u001b[43margs\u001b[49m\u001b[43m,\u001b[49m\u001b[43m \u001b[49m\u001b[38;5;241;43m*\u001b[39;49m\u001b[38;5;241;43m*\u001b[39;49m\u001b[43mkwargs\u001b[49m\u001b[43m)\u001b[49m\n",
      "File \u001b[1;32mc:\\Users\\abdar\\Desktop\\Universidade\\3ºAno\\1ºSemestre\\Capstone Project\\CProjectG6\\env\\Lib\\site-packages\\sklearn\\preprocessing\\_label.py:306\u001b[0m, in \u001b[0;36mLabelBinarizer.fit\u001b[1;34m(self, y)\u001b[0m\n\u001b[0;32m    303\u001b[0m     \u001b[38;5;28;01mraise\u001b[39;00m \u001b[38;5;167;01mValueError\u001b[39;00m(\u001b[38;5;124m\"\u001b[39m\u001b[38;5;124my has 0 samples: \u001b[39m\u001b[38;5;132;01m%r\u001b[39;00m\u001b[38;5;124m\"\u001b[39m \u001b[38;5;241m%\u001b[39m y)\n\u001b[0;32m    305\u001b[0m \u001b[38;5;28mself\u001b[39m\u001b[38;5;241m.\u001b[39msparse_input_ \u001b[38;5;241m=\u001b[39m sp\u001b[38;5;241m.\u001b[39missparse(y)\n\u001b[1;32m--> 306\u001b[0m \u001b[38;5;28mself\u001b[39m\u001b[38;5;241m.\u001b[39mclasses_ \u001b[38;5;241m=\u001b[39m \u001b[43munique_labels\u001b[49m\u001b[43m(\u001b[49m\u001b[43my\u001b[49m\u001b[43m)\u001b[49m\n\u001b[0;32m    307\u001b[0m \u001b[38;5;28;01mreturn\u001b[39;00m \u001b[38;5;28mself\u001b[39m\n",
      "File \u001b[1;32mc:\\Users\\abdar\\Desktop\\Universidade\\3ºAno\\1ºSemestre\\Capstone Project\\CProjectG6\\env\\Lib\\site-packages\\sklearn\\utils\\multiclass.py:105\u001b[0m, in \u001b[0;36munique_labels\u001b[1;34m(*ys)\u001b[0m\n\u001b[0;32m    103\u001b[0m _unique_labels \u001b[38;5;241m=\u001b[39m _FN_UNIQUE_LABELS\u001b[38;5;241m.\u001b[39mget(label_type, \u001b[38;5;28;01mNone\u001b[39;00m)\n\u001b[0;32m    104\u001b[0m \u001b[38;5;28;01mif\u001b[39;00m \u001b[38;5;129;01mnot\u001b[39;00m _unique_labels:\n\u001b[1;32m--> 105\u001b[0m     \u001b[38;5;28;01mraise\u001b[39;00m \u001b[38;5;167;01mValueError\u001b[39;00m(\u001b[38;5;124m\"\u001b[39m\u001b[38;5;124mUnknown label type: \u001b[39m\u001b[38;5;132;01m%s\u001b[39;00m\u001b[38;5;124m\"\u001b[39m \u001b[38;5;241m%\u001b[39m \u001b[38;5;28mrepr\u001b[39m(ys))\n\u001b[0;32m    107\u001b[0m \u001b[38;5;28;01mif\u001b[39;00m is_array_api_compliant:\n\u001b[0;32m    108\u001b[0m     \u001b[38;5;66;03m# array_api does not allow for mixed dtypes\u001b[39;00m\n\u001b[0;32m    109\u001b[0m     unique_ys \u001b[38;5;241m=\u001b[39m xp\u001b[38;5;241m.\u001b[39mconcat([_unique_labels(y) \u001b[38;5;28;01mfor\u001b[39;00m y \u001b[38;5;129;01min\u001b[39;00m ys])\n",
      "\u001b[1;31mValueError\u001b[0m: Unknown label type: (array([5. , 3.4, 3.4, 3.8, 3.7, 4.8, 4.8, 4.4, 3.1, 3.9, 4.9, 4.3, 3.7,\n       4.5, 4.5, 4.7, 4.3, 3.4, 3.8, 4.4, 3.6, 4.6, 3.5, 4.8, 3.1, 3.5,\n       2.4, 3. , 4.9, 4.8, 3.5, 2.9, 3.3, 5. , 3.2, 2.7, 2.2, 4.2, 4.7,\n       3.1, 4.2, 4.5, 4.9, 3.5, 3.9, 3.8, 5. , 3.1, 2.7, 3.2, 4.7, 2.4,\n       3.4, 4.7, 4.8, 1.3, 4.4, 3.9, 2.2, 2.2, 3.8, 3.6, 4.8, 2.7, 3.4,\n       4.1, 4.2, 4.7, 4.9, 4.6, 1.1, 3.2, 2.9, 3.9, 3.4, 4.3, 4.5, 3.6,\n       4. , 4.5, 3.7, 3.3, 3.6, 4.1, 2.7, 4. , 3.2, 4.3, 4.7, 3.7, 3.9,\n       3.6, 4.8, 3.2, 3.5, 4.2, 4.4, 2.6, 2.7, 2.9, 4.9, 4.7, 3.9, 5. ,\n       4.5, 4.9, 4.7, 4.8, 4.4, 1.4, 4.3, 3.6, 3.9, 3.2, 2.5, 4.6, 3.8,\n       4.1, 3.6, 3.4, 4.9, 4.2, 4.3, 4. , 4.4, 3. , 3. , 3.1, 4.4, 4.2,\n       4.6, 4.4, 4.5, 4.9, 4.6, 3.1, 3.4, 4.4, 4.5, 2.3, 3.3, 5. , 3.8,\n       4.3, 4.5, 4.1, 4.6, 4.6, 4.1, 3.3, 3.3, 3.9, 3.9, 0.1, 3.2, 3.6,\n       3.4, 4.2, 4.4, 4.9, 2.7, 3.8, 3.5, 4.9, 3.5, 4.9, 4.7, 4.5, 4.2,\n       2.4, 3.9, 3.4, 1.8, 4.5, 4.9, 4.5, 3.9, 5. , 3.8, 4.6, 3.1, 4.8,\n       4.1, 3.8, 3.2, 3.9, 3.4, 4.7, 5. , 4.7, 4.3, 3.3, 4.5, 4.6, 4.2,\n       2.6, 4.5, 2.2, 3.2, 4.2, 3.5, 4.3, 3.2, 4.2, 3.1, 3.4, 3.7, 4.2,\n       3.5, 3.9, 4.8, 4.7, 5. , 3.9, 2.7, 4.7, 3.9, 4.5, 3.8, 3.2, 4.9,\n       3.4, 4.4, 2.5, 4.5, 2.7, 4.5, 3.5, 4.3, 3.8, 4.4, 3.8, 4.6, 3.5,\n       4.9, 1.9, 4.5, 4.1, 4.5, 3.4, 3.4, 3.2, 4.3, 4.5, 1.1, 5. , 4.3,\n       4.1, 2.5, 2.2, 3.5, 4.9, 4.8, 3.7, 4.3, 3.4, 4.2, 4.7, 3.8, 2.8,\n       3.2, 4.2, 3. , 4.3, 3.5, 2.8, 3.5, 4.5, 4.9, 4.6, 4.9, 3.5, 4.4,\n       3.2, 3.1, 3.8, 4.4, 4.3, 4.3, 2.2, 3.9, 4.6, 4.8, 4.8, 4.4, 3.5,\n       2.4, 3.1, 4.5, 3.4, 4.3, 3.4, 3.3, 4.7, 4.1, 2.5, 3.9, 4. , 5. ,\n       4.3, 3.5, 3.4, 4.9, 4.6, 2.3, 3.2, 3.9, 2.3, 3.6, 4.7, 4.7, 3.4,\n       3.9, 4.4, 0.4, 4. , 3.9, 4.4, 4.8, 4.8, 3.4, 4.4, 4.7, 3.5, 3.2,\n       4.6, 2.6, 4.5, 4.7, 3.8, 2.7, 3.5, 4.2, 4.7, 4.7, 4.5, 4.3, 2.4,\n       4.2, 4.6, 3.4, 4.3, 4.2, 4.8, 3.8, 4.6, 4.4, 3.5, 4.6, 4.4, 4.9,\n       2.4, 3.9, 3.6, 3.1, 5. , 4.5, 2.2, 3.4, 0.8, 3.2, 3.7, 4.5, 4.4,\n       4.6, 4.8, 2.6, 3.6, 2.2, 4.9, 2.8, 4.2, 3.8, 3.9, 3.9, 4.8, 2.5,\n       4.9, 3.4, 2.3, 4.2, 4.5, 4. , 4.4, 4.5, 3.8, 4.9, 3.2, 3.9, 4.3,\n       2.9, 4.8, 4.5, 3.2, 3.9, 1.6, 2.9, 3.4, 4.4, 2.8, 4.2, 4.2, 4.3,\n       4.4, 5. , 4.5, 4.9, 3.3, 4.4, 4.7, 4.6, 3.7, 4.8, 4.3, 4.2, 1.9,\n       4.9, 3.4, 4.3, 3.4, 3.3, 3.9, 4.8, 4.6, 4.3, 4.1, 4.7, 3.6, 4.2,\n       3.6, 3.2, 3.2, 4.5, 4.2, 4.4, 3.5, 2.4, 3.9, 3.4, 3.8, 4.4, 3.8,\n       3.5, 4.9, 2.7, 4. , 0.8, 3.8, 3.3, 4.1, 4.5, 3.2, 3.1, 3.6, 2.2,\n       5. , 3.8, 4.1, 4.5, 4.9, 3.9, 3.5, 3.8, 2.4, 2.6, 3.8, 5. , 3.8,\n       3.6]),)"
     ]
    }
   ],
   "source": [
    "# Import necessary libraries\n",
    "import pandas as pd\n",
    "from sklearn.model_selection import train_test_split\n",
    "from sklearn.feature_extraction.text import CountVectorizer\n",
    "from sklearn.naive_bayes import MultinomialNB\n",
    "from sklearn.metrics import accuracy_score, classification_report\n",
    "from nltk.sentiment import SentimentIntensityAnalyzer\n",
    "\n",
    "# Sample data\n",
    "data = {'Review': [\"I love this product! It's amazing.\", \"Terrible experience, wouldn't recommend.\",\n",
    "                   \"Decent product, not bad.\", \"Average at best.\", \"Fantastic service! Highly recommend.\"],\n",
    "        'Rating': [5, 1, 3, 2, 5]}\n",
    "\n",
    "df = reviews_df.copy()\n",
    "\n",
    "# Sentiment analysis using nltk's SentimentIntensityAnalyzer\n",
    "sia = SentimentIntensityAnalyzer()\n",
    "df['Sentiment'] = df['CleanReview'].apply(lambda x: 'positive' if sia.polarity_scores(x)['compound'] > 0 else 'negative' if sia.polarity_scores(x)['compound'] < 0 else 'neutral')\n",
    "\n",
    "# Split the data into training and testing sets\n",
    "X_train, X_test, y_train, y_test = train_test_split(df['CleanReview'], df['Rating'], test_size=0.2, random_state=42)\n",
    "\n",
    "# Convert text data to numerical features using CountVectorizer\n",
    "vectorizer = CountVectorizer()\n",
    "X_train_vectorized = vectorizer.fit_transform(X_train)\n",
    "X_test_vectorized = vectorizer.transform(X_test)\n",
    "\n",
    "# Train a Naive Bayes classifier\n",
    "classifier = MultinomialNB()\n",
    "classifier.fit(X_train_vectorized, y_train)\n",
    "\n",
    "# Predict ratings on the test set\n",
    "y_pred = classifier.predict(X_test_vectorized)\n",
    "\n",
    "# Compare sentiment analysis with actual ratings\n",
    "df_test = pd.DataFrame({'Review': X_test, 'Actual_Rating': y_test, 'Predicted_Rating': y_pred})\n",
    "df_test['Sentiment'] = df_test['CleanReview'].apply(lambda x: 'positive' if sia.polarity_scores(x)['compound'] > 0 else 'negative' if sia.polarity_scores(x)['compound'] < 0 else 'neutral')\n",
    "\n",
    "# Evaluate the model\n",
    "accuracy = accuracy_score(y_test, y_pred)\n",
    "classification_rep = classification_report(y_test, y_pred)\n",
    "\n",
    "print(\"Accuracy:\", accuracy)\n",
    "print(\"\\nClassification Report:\\n\", classification_rep)\n",
    "print(\"\\nComparison of Sentiment Analysis and Actual Ratings on Test Set:\\n\", df_test[['CleanReview', 'Actual_Rating', 'Sentiment', 'Predicted_Rating']])\n"
   ]
  }
 ],
 "metadata": {
  "kernelspec": {
   "display_name": "env",
   "language": "python",
   "name": "python3"
  },
  "language_info": {
   "codemirror_mode": {
    "name": "ipython",
    "version": 3
   },
   "file_extension": ".py",
   "mimetype": "text/x-python",
   "name": "python",
   "nbconvert_exporter": "python",
   "pygments_lexer": "ipython3",
   "version": "3.11.5"
  }
 },
 "nbformat": 4,
 "nbformat_minor": 2
}
