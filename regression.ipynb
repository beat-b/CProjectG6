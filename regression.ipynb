{
 "cells": [
  {
   "cell_type": "code",
   "execution_count": 1,
   "metadata": {},
   "outputs": [
    {
     "name": "stderr",
     "output_type": "stream",
     "text": [
      "[nltk_data] Downloading package vader_lexicon to\n",
      "[nltk_data]     C:\\Users\\abdar\\AppData\\Roaming\\nltk_data...\n",
      "[nltk_data]   Package vader_lexicon is already up-to-date!\n"
     ]
    }
   ],
   "source": [
    "import pandas as pd\n",
    "import numpy as np\n",
    "import nltk\n",
    "from data_utils import sentiment_preprocessor\n",
    "#Preprocessing: tokenization and lemmatization\n",
    "from nltk.tokenize import PunktSentenceTokenizer\n",
    "from nltk.stem import WordNetLemmatizer\n",
    "lemmatizer = WordNetLemmatizer()\n",
    "sent_tokenizer = PunktSentenceTokenizer()\n",
    "\n",
    "#Sentiment Analysis with VADER\n",
    "nltk.download('vader_lexicon')\n",
    "from nltk.sentiment.vader import SentimentIntensityAnalyzer\n",
    "\n",
    "from sklearn.model_selection import train_test_split\n",
    "from sklearn.ensemble import RandomForestRegressor\n",
    "from sklearn.metrics import mean_squared_error\n",
    "from sklearn.feature_extraction.text import TfidfVectorizer\n",
    "from sklearn.pipeline import Pipeline\n",
    "from sklearn.compose import ColumnTransformer\n"
   ]
  },
  {
   "cell_type": "code",
   "execution_count": 2,
   "metadata": {},
   "outputs": [],
   "source": [
    "reviews_df = pd.read_csv('./data/reviews.csv')"
   ]
  },
  {
   "cell_type": "code",
   "execution_count": 3,
   "metadata": {},
   "outputs": [],
   "source": [
    "reviews_df['CleanReview'] = reviews_df['Review'].apply(lambda review: sentiment_preprocessor(\n",
    "    review, lowercase = False, \n",
    "    leave_punctuation = True, \n",
    "    lemmatization=False, \n",
    "    tokenized_output=False))"
   ]
  },
  {
   "cell_type": "code",
   "execution_count": 4,
   "metadata": {},
   "outputs": [],
   "source": [
    "vader = SentimentIntensityAnalyzer()"
   ]
  },
  {
   "cell_type": "code",
   "execution_count": 5,
   "metadata": {},
   "outputs": [],
   "source": [
    "# Analyse polarity and add results to dataframe\n",
    "reviews_df['Vader'] = reviews_df['CleanReview'].apply(lambda x: vader.polarity_scores(x))\n",
    "reviews_df['Negative_vader'] = reviews_df['Vader'].apply(lambda x: x['neg'])\n",
    "reviews_df['Neutral_vader'] = reviews_df['Vader'].apply(lambda x: x['neu'])\n",
    "reviews_df['Positive_vader'] = reviews_df['Vader'].apply(lambda x: x['pos'])\n",
    "reviews_df['Compound_vader'] = reviews_df['Vader'].apply(lambda x: x['compound'])"
   ]
  },
  {
   "cell_type": "code",
   "execution_count": 6,
   "metadata": {},
   "outputs": [],
   "source": [
    "# Drop column with polarity scores\n",
    "reviews_df.drop('Vader', axis=1, inplace=True)"
   ]
  },
  {
   "cell_type": "code",
   "execution_count": 7,
   "metadata": {},
   "outputs": [],
   "source": [
    "# Name of the columns related with vader\n",
    "vader_cols = ['Negative_vader', 'Neutral_vader', 'Positive_vader', 'Compound_vader']"
   ]
  },
  {
   "cell_type": "code",
   "execution_count": 8,
   "metadata": {},
   "outputs": [
    {
     "data": {
      "text/html": [
       "<div>\n",
       "<style scoped>\n",
       "    .dataframe tbody tr th:only-of-type {\n",
       "        vertical-align: middle;\n",
       "    }\n",
       "\n",
       "    .dataframe tbody tr th {\n",
       "        vertical-align: top;\n",
       "    }\n",
       "\n",
       "    .dataframe thead th {\n",
       "        text-align: right;\n",
       "    }\n",
       "</style>\n",
       "<table border=\"1\" class=\"dataframe\">\n",
       "  <thead>\n",
       "    <tr style=\"text-align: right;\">\n",
       "      <th></th>\n",
       "      <th>Negative_vader</th>\n",
       "      <th>Neutral_vader</th>\n",
       "      <th>Positive_vader</th>\n",
       "      <th>Compound_vader</th>\n",
       "    </tr>\n",
       "  </thead>\n",
       "  <tbody>\n",
       "    <tr>\n",
       "      <th>count</th>\n",
       "      <td>587.000000</td>\n",
       "      <td>587.000000</td>\n",
       "      <td>587.000000</td>\n",
       "      <td>587.000000</td>\n",
       "    </tr>\n",
       "    <tr>\n",
       "      <th>mean</th>\n",
       "      <td>0.008245</td>\n",
       "      <td>0.859063</td>\n",
       "      <td>0.131000</td>\n",
       "      <td>0.469345</td>\n",
       "    </tr>\n",
       "    <tr>\n",
       "      <th>std</th>\n",
       "      <td>0.014450</td>\n",
       "      <td>0.152677</td>\n",
       "      <td>0.141421</td>\n",
       "      <td>0.481055</td>\n",
       "    </tr>\n",
       "    <tr>\n",
       "      <th>min</th>\n",
       "      <td>0.000000</td>\n",
       "      <td>0.000000</td>\n",
       "      <td>0.000000</td>\n",
       "      <td>-0.526700</td>\n",
       "    </tr>\n",
       "    <tr>\n",
       "      <th>25%</th>\n",
       "      <td>0.000000</td>\n",
       "      <td>0.719000</td>\n",
       "      <td>0.000000</td>\n",
       "      <td>0.000000</td>\n",
       "    </tr>\n",
       "    <tr>\n",
       "      <th>50%</th>\n",
       "      <td>0.000000</td>\n",
       "      <td>0.947000</td>\n",
       "      <td>0.000000</td>\n",
       "      <td>0.000000</td>\n",
       "    </tr>\n",
       "    <tr>\n",
       "      <th>75%</th>\n",
       "      <td>0.018000</td>\n",
       "      <td>1.000000</td>\n",
       "      <td>0.260500</td>\n",
       "      <td>0.968750</td>\n",
       "    </tr>\n",
       "    <tr>\n",
       "      <th>max</th>\n",
       "      <td>0.094000</td>\n",
       "      <td>1.000000</td>\n",
       "      <td>0.677000</td>\n",
       "      <td>0.996800</td>\n",
       "    </tr>\n",
       "  </tbody>\n",
       "</table>\n",
       "</div>"
      ],
      "text/plain": [
       "       Negative_vader  Neutral_vader  Positive_vader  Compound_vader\n",
       "count      587.000000     587.000000      587.000000      587.000000\n",
       "mean         0.008245       0.859063        0.131000        0.469345\n",
       "std          0.014450       0.152677        0.141421        0.481055\n",
       "min          0.000000       0.000000        0.000000       -0.526700\n",
       "25%          0.000000       0.719000        0.000000        0.000000\n",
       "50%          0.000000       0.947000        0.000000        0.000000\n",
       "75%          0.018000       1.000000        0.260500        0.968750\n",
       "max          0.094000       1.000000        0.677000        0.996800"
      ]
     },
     "execution_count": 8,
     "metadata": {},
     "output_type": "execute_result"
    }
   ],
   "source": [
    "reviews_df[vader_cols].describe()"
   ]
  },
  {
   "cell_type": "code",
   "execution_count": 9,
   "metadata": {},
   "outputs": [],
   "source": [
    "# Define features and target variable\n",
    "X = reviews_df[['CleanReview'] + vader_cols]\n",
    "y = reviews_df['Rating']"
   ]
  },
  {
   "cell_type": "code",
   "execution_count": 10,
   "metadata": {},
   "outputs": [],
   "source": [
    "# Split the data into training, validation, and testing sets\n",
    "X_train, X_temp, y_train, y_temp = train_test_split(X, y, test_size=0.3, random_state=42)\n",
    "X_val, X_test, y_val, y_test = train_test_split(X_temp, y_temp, test_size=0.5, random_state=42)"
   ]
  },
  {
   "cell_type": "code",
   "execution_count": 11,
   "metadata": {},
   "outputs": [],
   "source": [
    "# Create a ColumnTransformer to handle different feature types\n",
    "# In this case, we'll use TF-IDF for text (customer reviews) and passthrough for other variables\n",
    "preprocessor = ColumnTransformer(\n",
    "    transformers=[\n",
    "        ('text', TfidfVectorizer(), 'CleanReview'),\n",
    "        ('numeric', 'passthrough', ['Negative_vader', 'Neutral_vader', 'Positive_vader', 'Compound_vader'])\n",
    "    ])"
   ]
  },
  {
   "cell_type": "code",
   "execution_count": 12,
   "metadata": {},
   "outputs": [],
   "source": [
    "# Combine the preprocessor with a regressor (RandomForestRegressor in this case)\n",
    "model = RandomForestRegressor(n_estimators=100, random_state=42)"
   ]
  },
  {
   "cell_type": "code",
   "execution_count": 13,
   "metadata": {},
   "outputs": [],
   "source": [
    "# Create a pipeline\n",
    "pipeline = Pipeline([\n",
    "    ('preprocessor', preprocessor),\n",
    "    ('model', model)\n",
    "])"
   ]
  },
  {
   "cell_type": "code",
   "execution_count": 14,
   "metadata": {},
   "outputs": [
    {
     "name": "stdout",
     "output_type": "stream",
     "text": [
      "Root Mean Squared Error on Validation Set: 0.8783403882905056\n",
      "Root Mean Squared Error on Test Set: 1.0111079653124897\n"
     ]
    }
   ],
   "source": [
    "# Fit the model on training data\n",
    "pipeline.fit(X_train, y_train)\n",
    "\n",
    "# Make predictions on validation set\n",
    "y_val_pred = pipeline.predict(X_val)\n",
    "\n",
    "# Evaluate the model on validation set\n",
    "rmse_val = np.sqrt(mean_squared_error(y_val, y_val_pred))\n",
    "print(f'Root Mean Squared Error on Validation Set: {rmse_val}')\n",
    "\n",
    "# Make predictions on test set\n",
    "y_test_pred = pipeline.predict(X_test)\n",
    "\n",
    "# Evaluate the model on test set\n",
    "rmse_test = np.sqrt(mean_squared_error(y_test, y_test_pred))\n",
    "print(f'Root Mean Squared Error on Test Set: {rmse_test}')"
   ]
  },
  {
   "cell_type": "markdown",
   "metadata": {},
   "source": [
    "# Tests for chatbot"
   ]
  },
  {
   "cell_type": "code",
   "execution_count": 16,
   "metadata": {},
   "outputs": [
    {
     "name": "stdout",
     "output_type": "stream",
     "text": [
      "✅ File ./models/rating_rf_model.pkl was saved successfully\n"
     ]
    }
   ],
   "source": [
    "import pickle\n",
    "\n",
    "path = \"./models/rating_rf_model.pkl\"\n",
    "\n",
    "with open(path, 'wb') as file:\n",
    "    pickle.dump(pipeline, file)\n",
    "\n",
    "print(f\"✅ File {path} was saved successfully\")"
   ]
  },
  {
   "cell_type": "code",
   "execution_count": 1,
   "metadata": {},
   "outputs": [
    {
     "name": "stderr",
     "output_type": "stream",
     "text": [
      "[nltk_data] Downloading package vader_lexicon to\n",
      "[nltk_data]     C:\\Users\\abdar\\AppData\\Roaming\\nltk_data...\n",
      "[nltk_data]   Package vader_lexicon is already up-to-date!\n"
     ]
    },
    {
     "name": "stdout",
     "output_type": "stream",
     "text": [
      "Root Mean Squared Error on Validation Set: 0.8783403882905056\n",
      "Root Mean Squared Error on Test Set: 1.0111079653124897\n"
     ]
    }
   ],
   "source": [
    "import pandas as pd\n",
    "import numpy as np\n",
    "import nltk\n",
    "from data_utils import sentiment_preprocessor\n",
    "from nltk.tokenize import PunktSentenceTokenizer\n",
    "from nltk.stem import WordNetLemmatizer\n",
    "from nltk.sentiment.vader import SentimentIntensityAnalyzer\n",
    "from sklearn.model_selection import train_test_split\n",
    "from sklearn.ensemble import RandomForestRegressor\n",
    "from sklearn.metrics import mean_squared_error\n",
    "from sklearn.feature_extraction.text import TfidfVectorizer\n",
    "from sklearn.pipeline import Pipeline\n",
    "from sklearn.compose import ColumnTransformer\n",
    "\n",
    "# Preprocessing: tokenization and lemmatization\n",
    "lemmatizer = WordNetLemmatizer()\n",
    "sent_tokenizer = PunktSentenceTokenizer()\n",
    "\n",
    "# Sentiment Analysis with VADER\n",
    "nltk.download('vader_lexicon')\n",
    "\n",
    "# Load data\n",
    "reviews_df = pd.read_csv('./data/reviews.csv')\n",
    "reviews_df['CleanReview'] = reviews_df['Review'].apply(lambda review: sentiment_preprocessor(\n",
    "    review, lowercase=False,\n",
    "    leave_punctuation=True,\n",
    "    lemmatization=False,\n",
    "    tokenized_output=False))\n",
    "\n",
    "# Analyze polarity and add results to the dataframe\n",
    "vader = SentimentIntensityAnalyzer()\n",
    "reviews_df['Vader'] = reviews_df['CleanReview'].apply(lambda x: vader.polarity_scores(x))\n",
    "reviews_df['Negative_vader'] = reviews_df['Vader'].apply(lambda x: x['neg'])\n",
    "reviews_df['Neutral_vader'] = reviews_df['Vader'].apply(lambda x: x['neu'])\n",
    "reviews_df['Positive_vader'] = reviews_df['Vader'].apply(lambda x: x['pos'])\n",
    "reviews_df['Compound_vader'] = reviews_df['Vader'].apply(lambda x: x['compound'])\n",
    "reviews_df.drop('Vader', axis=1, inplace=True)\n",
    "\n",
    "# Name of the columns related to Vader\n",
    "vader_cols = ['Negative_vader', 'Neutral_vader', 'Positive_vader', 'Compound_vader']\n",
    "\n",
    "# Define features and target variable\n",
    "X = reviews_df[['CleanReview'] + vader_cols]\n",
    "y = reviews_df['Rating']\n",
    "\n",
    "# Split the data into training, validation, and testing sets\n",
    "X_train, X_temp, y_train, y_temp = train_test_split(X, y, test_size=0.3, random_state=42)\n",
    "X_val, X_test, y_val, y_test = train_test_split(X_temp, y_temp, test_size=0.5, random_state=42)\n",
    "\n",
    "# Create a ColumnTransformer to handle different feature types\n",
    "preprocessor = ColumnTransformer(\n",
    "    transformers=[\n",
    "        ('text', TfidfVectorizer(), 'CleanReview'),\n",
    "        ('numeric', 'passthrough', ['Negative_vader', 'Neutral_vader', 'Positive_vader', 'Compound_vader'])\n",
    "    ])\n",
    "\n",
    "# Combine the preprocessor with a regressor (RandomForestRegressor in this case)\n",
    "model = RandomForestRegressor(n_estimators=100, random_state=42)\n",
    "\n",
    "# Create a pipeline\n",
    "pipeline = Pipeline([\n",
    "    ('preprocessor', preprocessor),\n",
    "    ('model', model)\n",
    "])\n",
    "\n",
    "# Fit the model on the training data\n",
    "pipeline.fit(X_train, y_train)\n",
    "\n",
    "# RegressorWrapper for the RandomForestRegressor model\n",
    "class RegressorWrapper:\n",
    "    def __init__(self, model, features, text_column):\n",
    "        self.model = model\n",
    "        self.features = features\n",
    "        self.text_column = text_column\n",
    "\n",
    "    def predict(self, x_observation: pd.DataFrame) -> float:\n",
    "        text_data = x_observation[self.text_column].values\n",
    "        numeric_features = x_observation[self.features[1:]].values\n",
    "        combined_features = np.concatenate((self._preprocess_text(text_data), numeric_features), axis=1)\n",
    "        result = self.model.predict(combined_features)\n",
    "        return result[0]\n",
    "\n",
    "    def _preprocess_text(self, text_data):\n",
    "        return self.model.named_steps['preprocessor'].named_transformers_['text'].transform(text_data)\n",
    "\n",
    "    def prediction_needs(self, verbosity=True):\n",
    "        if verbosity:\n",
    "            return f\"You need to provide the values of {self.features} to get a prediction.\"\n",
    "        else:\n",
    "            return self.features\n",
    "\n",
    "# Create the RegressorWrapper\n",
    "regressor_wrapper = RegressorWrapper(model=pipeline, features=vader_cols, text_column='CleanReview')\n",
    "\n",
    "# Make predictions on the validation set\n",
    "y_val_pred = pipeline.predict(X_val)\n",
    "\n",
    "# Evaluate the model on the validation set\n",
    "rmse_val = np.sqrt(mean_squared_error(y_val, y_val_pred))\n",
    "print(f'Root Mean Squared Error on Validation Set: {rmse_val}')\n",
    "\n",
    "# Make predictions on the test set\n",
    "y_test_pred = pipeline.predict(X_test)\n",
    "\n",
    "# Evaluate the model on the test set\n",
    "rmse_test = np.sqrt(mean_squared_error(y_test, y_test_pred))\n",
    "print(f'Root Mean Squared Error on Test Set: {rmse_test}')"
   ]
  },
  {
   "cell_type": "code",
   "execution_count": 1,
   "metadata": {},
   "outputs": [
    {
     "name": "stderr",
     "output_type": "stream",
     "text": [
      "[nltk_data] Downloading package vader_lexicon to\n",
      "[nltk_data]     C:\\Users\\abdar\\AppData\\Roaming\\nltk_data...\n",
      "[nltk_data]   Package vader_lexicon is already up-to-date!\n"
     ]
    },
    {
     "name": "stdout",
     "output_type": "stream",
     "text": [
      "Root Mean Squared Error on Validation Set: 0.8764622968070616\n",
      "Root Mean Squared Error on Test Set: 1.0115388809825356\n"
     ]
    }
   ],
   "source": [
    "import pandas as pd\n",
    "import numpy as np\n",
    "import nltk\n",
    "from data_utils import sentiment_preprocessor\n",
    "from nltk.tokenize import PunktSentenceTokenizer\n",
    "from nltk.stem import WordNetLemmatizer\n",
    "from nltk.sentiment.vader import SentimentIntensityAnalyzer\n",
    "from sklearn.model_selection import train_test_split\n",
    "from sklearn.ensemble import RandomForestRegressor\n",
    "from sklearn.metrics import mean_squared_error\n",
    "from sklearn.feature_extraction.text import TfidfVectorizer\n",
    "from sklearn.pipeline import Pipeline\n",
    "from sklearn.compose import ColumnTransformer\n",
    "\n",
    "# Preprocessing: tokenization and lemmatization\n",
    "lemmatizer = WordNetLemmatizer()\n",
    "sent_tokenizer = PunktSentenceTokenizer()\n",
    "\n",
    "# Sentiment Analysis with VADER\n",
    "nltk.download('vader_lexicon')\n",
    "\n",
    "# Load data\n",
    "reviews_df = pd.read_csv('./data/reviews.csv')\n",
    "reviews_df['CleanReview'] = reviews_df['Review'].apply(lambda review: sentiment_preprocessor(\n",
    "    review, lowercase=False,\n",
    "    leave_punctuation=True,\n",
    "    lemmatization=False,\n",
    "    tokenized_output=False))\n",
    "\n",
    "# Analyze polarity and add results to the dataframe\n",
    "vader = SentimentIntensityAnalyzer()\n",
    "reviews_df['Vader'] = reviews_df['CleanReview'].apply(lambda x: vader.polarity_scores(x))\n",
    "reviews_df['Negative_vader'] = reviews_df['Vader'].apply(lambda x: x['neg'])\n",
    "reviews_df['Neutral_vader'] = reviews_df['Vader'].apply(lambda x: x['neu'])\n",
    "reviews_df['Positive_vader'] = reviews_df['Vader'].apply(lambda x: x['pos'])\n",
    "reviews_df['Compound_vader'] = reviews_df['Vader'].apply(lambda x: x['compound'])\n",
    "reviews_df.drop('Vader', axis=1, inplace=True)\n",
    "\n",
    "# Name of the columns related to Vader\n",
    "vader_cols = ['Negative_vader', 'Neutral_vader', 'Positive_vader', 'Compound_vader']\n",
    "\n",
    "# Define features and target variable\n",
    "X = reviews_df[['Review'] + vader_cols]\n",
    "y = reviews_df['Rating']\n",
    "\n",
    "# Split the data into training, validation, and testing sets\n",
    "X_train, X_temp, y_train, y_temp = train_test_split(X, y, test_size=0.3, random_state=42)\n",
    "X_val, X_test, y_val, y_test = train_test_split(X_temp, y_temp, test_size=0.5, random_state=42)\n",
    "\n",
    "# Create a ColumnTransformer to handle different feature types\n",
    "preprocessor = ColumnTransformer(\n",
    "    transformers=[\n",
    "        ('text', TfidfVectorizer(), 'Review'),\n",
    "        ('numeric', 'passthrough', ['Negative_vader', 'Neutral_vader', 'Positive_vader', 'Compound_vader'])\n",
    "    ])\n",
    "\n",
    "# Combine the preprocessor with a regressor (RandomForestRegressor in this case)\n",
    "model = RandomForestRegressor(n_estimators=100, random_state=42)\n",
    "\n",
    "# Create a pipeline\n",
    "pipeline = Pipeline([\n",
    "    ('preprocessor', preprocessor),\n",
    "    ('model', model)\n",
    "])\n",
    "\n",
    "# Fit the model on the training data\n",
    "pipeline.fit(X_train, y_train)\n",
    "\n",
    "# Make predictions on the validation set\n",
    "y_val_pred = pipeline.predict(X_val)\n",
    "\n",
    "# Evaluate the model on the validation set\n",
    "rmse_val = np.sqrt(mean_squared_error(y_val, y_val_pred))\n",
    "print(f'Root Mean Squared Error on Validation Set: {rmse_val}')\n",
    "\n",
    "# Make predictions on the test set\n",
    "y_test_pred = pipeline.predict(X_test)\n",
    "\n",
    "# Evaluate the model on the test set\n",
    "rmse_test = np.sqrt(mean_squared_error(y_test, y_test_pred))\n",
    "print(f'Root Mean Squared Error on Test Set: {rmse_test}')\n"
   ]
  },
  {
   "cell_type": "code",
   "execution_count": 2,
   "metadata": {},
   "outputs": [],
   "source": [
    "# RegressorWrapper for the RandomForestRegressor model\n",
    "class RegressorWrapper:\n",
    "    def __init__(self, model, text_column):\n",
    "        self.model = model\n",
    "        self.text_column = text_column\n",
    "\n",
    "    def predict(self, raw_review: str) -> float:\n",
    "        # Preprocess the review and extract relevant features\n",
    "        clean_review = sentiment_preprocessor(\n",
    "            raw_review, lowercase=False, leave_punctuation=True, lemmatization=False, tokenized_output=False\n",
    "        )\n",
    "        review_df = pd.DataFrame({\n",
    "            'Review': clean_review,\n",
    "            'Negative_vader': [vader.polarity_scores(clean_review)['neg']],\n",
    "            'Neutral_vader': [vader.polarity_scores(clean_review)['neu']],\n",
    "            'Positive_vader': [vader.polarity_scores(clean_review)['pos']],\n",
    "            'Compound_vader': [vader.polarity_scores(clean_review)['compound']]\n",
    "        })\n",
    "        \n",
    "        # Make predictions using the model\n",
    "        result = self.model.predict(review_df)\n",
    "        return result[0]\n",
    "\n",
    "    def prediction_needs(self, verbosity=True):\n",
    "        return f\"You only need to provide the raw review text to get a prediction.\"\n",
    "\n",
    "# Create the RegressorWrapper\n",
    "regressor_wrapper = RegressorWrapper(model=pipeline, text_column='Review')"
   ]
  },
  {
   "cell_type": "markdown",
   "metadata": {},
   "source": [
    "Test"
   ]
  },
  {
   "cell_type": "code",
   "execution_count": 3,
   "metadata": {},
   "outputs": [
    {
     "name": "stdout",
     "output_type": "stream",
     "text": [
      "Predicted Rating for the Review: 3.99\n"
     ]
    }
   ],
   "source": [
    "# Assuming you have a raw review text that you want to predict the rating for\n",
    "raw_review_text = \"This product is amazing! I love it.\"\n",
    "\n",
    "# Use the RegressorWrapper to make predictions\n",
    "predicted_rating = regressor_wrapper.predict(raw_review_text)\n",
    "\n",
    "print(f'Predicted Rating for the Review: {round(predicted_rating, 2)}')\n"
   ]
  }
 ],
 "metadata": {
  "kernelspec": {
   "display_name": "env",
   "language": "python",
   "name": "python3"
  },
  "language_info": {
   "codemirror_mode": {
    "name": "ipython",
    "version": 3
   },
   "file_extension": ".py",
   "mimetype": "text/x-python",
   "name": "python",
   "nbconvert_exporter": "python",
   "pygments_lexer": "ipython3",
   "version": "3.11.5"
  }
 },
 "nbformat": 4,
 "nbformat_minor": 2
}
