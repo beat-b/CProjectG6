{
 "cells": [
  {
   "cell_type": "code",
   "execution_count": 1,
   "metadata": {},
   "outputs": [
    {
     "name": "stdout",
     "output_type": "stream",
     "text": [
      "sk-TE7B7pp5i1ov4pYUKiVMT3BlbkFJNb3wF\n",
      "First LLM API example\n",
      "✅ OpenAI Key loaded (sk-TE7B7pp5i1ov4pYUKiVMT3BlbkFJNb3wF...)\n"
     ]
    }
   ],
   "source": [
    "from util import local_settings\n",
    "from openai import OpenAI\n",
    "\n",
    "print(\"First LLM API example\")\n",
    "print(f\"✅ OpenAI Key loaded ({local_settings.OPENAI_API_KEY[0:-15]}...)\")\n",
    "\n",
    "client = OpenAI(api_key=local_settings.OPENAI_API_KEY)"
   ]
  },
  {
   "cell_type": "code",
   "execution_count": 68,
   "metadata": {},
   "outputs": [],
   "source": [
    "from reviews_utils import *\n",
    "import pandas as pd\n",
    "from langchain_experimental.agents.agent_toolkits import create_pandas_dataframe_agent\n",
    "from langchain.llms import OpenAI\n",
    "\n",
    "# Load the CSV files into DataFrames\n",
    "trip_df = pd.read_csv('./data/cleanTripLisbon.csv', index_col='Unnamed: 0')\n",
    "customer_df = pd.read_csv('./data/customer_data.csv')\n",
    "\n",
    "# Create reviews_df\n",
    "reviews_df = pd.DataFrame(columns=['Username', 'Place', 'OverallRating', 'Review', 'Rating'])\n",
    "\n",
    "# Remove rows with no reviews\n",
    "trip_bot_df = trip_df[trip_df['ReviewsNo'] != 0]\n",
    "\n",
    "# Excluded 'About' because the review was a copy of it\n",
    "# Select top 200 rows\n",
    "trip_bot_df = trip_bot_df[['Name', 'Types', 'Rating', 'ReviewsNo']].head(200).copy()\n",
    "\n",
    "# Pandas df as agent\n",
    "agent = create_pandas_dataframe_agent(OpenAI(temperature=0), trip_bot_df, verbose=True)\n",
    "\n",
    "# Create a list of column names containing \"Rating\"\n",
    "rating_columns = [col for col in trip_df.columns if 'Rating' in col if col != 'Rating']\n",
    "\n",
    "# Create dataframe to check if number of reviews does not exceed number of trips\n",
    "copy_customer = customer_df[['Username', 'Planned Trips']].copy()\n",
    "copy_customer['ReviewsNo'] = 0"
   ]
  },
  {
   "cell_type": "code",
   "execution_count": 48,
   "metadata": {},
   "outputs": [],
   "source": [
    "from typing import List\n",
    "\n",
    "def generate_reviews(agent, row: pd.Series, copy_customer: pd.DataFrame, rating_columns: List[str]) -> None:\n",
    "    \"\"\"\n",
    "    Generate reviews for a given place based on the provided row.\n",
    "\n",
    "    ----------------------\n",
    "    Parameters:\n",
    "     - agent: The agent responsible for generating reviews.\n",
    "     - row: The row from the dataset representing a place.\n",
    "     - copy_customer: A DataFrame representing customer information.\n",
    "     - rating_columns: A list of column names containing rating information.\n",
    "    ----------------------\n",
    "    Returns:\n",
    "     - None\n",
    "    \"\"\"\n",
    "    review_question = f'\\\n",
    "        You are ReviewBot, an automated service for crafting authentic reviews about places to visit in Lisbon!\\\n",
    "        As ReviewBot, embody the voice of different types of visitors sharing experiences and recommendations.\\\n",
    "        Use informal language.\\\n",
    "        Do not mention rating, however the review can be different from the rating in the dataset.\\\n",
    "        If you use \\' put a \\ before.\\\n",
    "        The length of the review must be between 10 and 100 words.\\\n",
    "        Example dataset row:\\\n",
    "        - Place: Belém Tower\\\n",
    "        - Features: Historical landmark\\\n",
    "        - Rating: 4.5/5\\\n",
    "        Task: Write a review for the place with index {row.index[0]} using text only.'\n",
    "    \n",
    "    # Check if row has 3 or less reviews\n",
    "    if row['ReviewsNo'] <= 3:\n",
    "        # For loop for the number or reviews\n",
    "        for i in range(row['ReviewsNo']):\n",
    "            # Chose random customer\n",
    "            customer = customer_df.sample(n=1)\n",
    "            # Get reponse\n",
    "            response = agent.run(review_question)\n",
    "            # Create dictionary with new information\n",
    "            review_dict = {\n",
    "                'Username': customer['Username'],\n",
    "                'Place': row['Place'],\n",
    "                'OverallRating': row['Rating'],\n",
    "                'Review': response,\n",
    "                'Rating': get_rating(row, rating_columns)\n",
    "            }\n",
    "            # Make the dictionary a row of reviews_df\n",
    "            reviews_df.append(review_dict, ignore_index=True)\n",
    "            # Count if the number of reviews does not exceed the number of trips for the customer\n",
    "            copy_customer['ReviewsNo'].iloc[customer.index[0]] += 1\n",
    "    else:\n",
    "        # For loop to create 3 reviews\n",
    "        for i in range(3):\n",
    "            # Chose random customer\n",
    "            customer = customer_df.sample(n=1)\n",
    "            # Get reponse\n",
    "            response = agent.run(review_question)\n",
    "            # Create dictionary with new information\n",
    "            review_dict = {\n",
    "                'Username': customer['Username'],\n",
    "                'Place': row['Place'],\n",
    "                'OverallRating': row['Rating'],\n",
    "                'Review': response,\n",
    "                'Rating': get_rating(row, rating_columns)\n",
    "            }\n",
    "            # Make the dictionary a row of reviews_df\n",
    "            reviews_df.append(review_dict, ignore_index=True)\n",
    "            # Count if the number of reviews does not exceed the number of trips for the customer\n",
    "            copy_customer['ReviewsNo'].iloc[customer.index[0]] += 1"
   ]
  },
  {
   "cell_type": "code",
   "execution_count": 69,
   "metadata": {},
   "outputs": [],
   "source": [
    "trip_bot_df = trip_bot_df[['Name', 'Types', 'Rating']].head(1).copy()"
   ]
  },
  {
   "cell_type": "code",
   "execution_count": 70,
   "metadata": {},
   "outputs": [
    {
     "ename": "TypeError",
     "evalue": "'AgentExecutor' object is not subscriptable",
     "output_type": "error",
     "traceback": [
      "\u001b[1;31m---------------------------------------------------------------------------\u001b[0m",
      "\u001b[1;31mTypeError\u001b[0m                                 Traceback (most recent call last)",
      "Cell \u001b[1;32mIn[70], line 2\u001b[0m\n\u001b[0;32m      1\u001b[0m \u001b[38;5;66;03m# Apply the function to each row in the DataFrame\u001b[39;00m\n\u001b[1;32m----> 2\u001b[0m \u001b[43mtrip_bot_df\u001b[49m\u001b[38;5;241;43m.\u001b[39;49m\u001b[43mapply\u001b[49m\u001b[43m(\u001b[49m\u001b[38;5;28;43;01mlambda\u001b[39;49;00m\u001b[43m \u001b[49m\u001b[43mrow\u001b[49m\u001b[43m:\u001b[49m\u001b[43m \u001b[49m\u001b[43mgenerate_reviews\u001b[49m\u001b[43m(\u001b[49m\u001b[43magent\u001b[49m\u001b[43m,\u001b[49m\u001b[43m \u001b[49m\u001b[43mrow\u001b[49m\u001b[43m,\u001b[49m\u001b[43m \u001b[49m\u001b[43mcopy_customer\u001b[49m\u001b[43m,\u001b[49m\u001b[43m \u001b[49m\u001b[43mrating_columns\u001b[49m\u001b[43m)\u001b[49m\u001b[43m,\u001b[49m\u001b[43m \u001b[49m\u001b[43maxis\u001b[49m\u001b[43m \u001b[49m\u001b[38;5;241;43m=\u001b[39;49m\u001b[43m \u001b[49m\u001b[38;5;241;43m1\u001b[39;49m\u001b[43m)\u001b[49m\n",
      "File \u001b[1;32mc:\\Users\\abdar\\Desktop\\Universidade\\3ºAno\\1ºSemestre\\Capstone Project\\CProjectG6\\env\\Lib\\site-packages\\pandas\\core\\frame.py:10034\u001b[0m, in \u001b[0;36mDataFrame.apply\u001b[1;34m(self, func, axis, raw, result_type, args, by_row, **kwargs)\u001b[0m\n\u001b[0;32m  10022\u001b[0m \u001b[38;5;28;01mfrom\u001b[39;00m \u001b[38;5;21;01mpandas\u001b[39;00m\u001b[38;5;21;01m.\u001b[39;00m\u001b[38;5;21;01mcore\u001b[39;00m\u001b[38;5;21;01m.\u001b[39;00m\u001b[38;5;21;01mapply\u001b[39;00m \u001b[38;5;28;01mimport\u001b[39;00m frame_apply\n\u001b[0;32m  10024\u001b[0m op \u001b[38;5;241m=\u001b[39m frame_apply(\n\u001b[0;32m  10025\u001b[0m     \u001b[38;5;28mself\u001b[39m,\n\u001b[0;32m  10026\u001b[0m     func\u001b[38;5;241m=\u001b[39mfunc,\n\u001b[1;32m   (...)\u001b[0m\n\u001b[0;32m  10032\u001b[0m     kwargs\u001b[38;5;241m=\u001b[39mkwargs,\n\u001b[0;32m  10033\u001b[0m )\n\u001b[1;32m> 10034\u001b[0m \u001b[38;5;28;01mreturn\u001b[39;00m \u001b[43mop\u001b[49m\u001b[38;5;241;43m.\u001b[39;49m\u001b[43mapply\u001b[49m\u001b[43m(\u001b[49m\u001b[43m)\u001b[49m\u001b[38;5;241m.\u001b[39m__finalize__(\u001b[38;5;28mself\u001b[39m, method\u001b[38;5;241m=\u001b[39m\u001b[38;5;124m\"\u001b[39m\u001b[38;5;124mapply\u001b[39m\u001b[38;5;124m\"\u001b[39m)\n",
      "File \u001b[1;32mc:\\Users\\abdar\\Desktop\\Universidade\\3ºAno\\1ºSemestre\\Capstone Project\\CProjectG6\\env\\Lib\\site-packages\\pandas\\core\\apply.py:837\u001b[0m, in \u001b[0;36mFrameApply.apply\u001b[1;34m(self)\u001b[0m\n\u001b[0;32m    834\u001b[0m \u001b[38;5;28;01melif\u001b[39;00m \u001b[38;5;28mself\u001b[39m\u001b[38;5;241m.\u001b[39mraw:\n\u001b[0;32m    835\u001b[0m     \u001b[38;5;28;01mreturn\u001b[39;00m \u001b[38;5;28mself\u001b[39m\u001b[38;5;241m.\u001b[39mapply_raw()\n\u001b[1;32m--> 837\u001b[0m \u001b[38;5;28;01mreturn\u001b[39;00m \u001b[38;5;28;43mself\u001b[39;49m\u001b[38;5;241;43m.\u001b[39;49m\u001b[43mapply_standard\u001b[49m\u001b[43m(\u001b[49m\u001b[43m)\u001b[49m\n",
      "File \u001b[1;32mc:\\Users\\abdar\\Desktop\\Universidade\\3ºAno\\1ºSemestre\\Capstone Project\\CProjectG6\\env\\Lib\\site-packages\\pandas\\core\\apply.py:963\u001b[0m, in \u001b[0;36mFrameApply.apply_standard\u001b[1;34m(self)\u001b[0m\n\u001b[0;32m    962\u001b[0m \u001b[38;5;28;01mdef\u001b[39;00m \u001b[38;5;21mapply_standard\u001b[39m(\u001b[38;5;28mself\u001b[39m):\n\u001b[1;32m--> 963\u001b[0m     results, res_index \u001b[38;5;241m=\u001b[39m \u001b[38;5;28;43mself\u001b[39;49m\u001b[38;5;241;43m.\u001b[39;49m\u001b[43mapply_series_generator\u001b[49m\u001b[43m(\u001b[49m\u001b[43m)\u001b[49m\n\u001b[0;32m    965\u001b[0m     \u001b[38;5;66;03m# wrap results\u001b[39;00m\n\u001b[0;32m    966\u001b[0m     \u001b[38;5;28;01mreturn\u001b[39;00m \u001b[38;5;28mself\u001b[39m\u001b[38;5;241m.\u001b[39mwrap_results(results, res_index)\n",
      "File \u001b[1;32mc:\\Users\\abdar\\Desktop\\Universidade\\3ºAno\\1ºSemestre\\Capstone Project\\CProjectG6\\env\\Lib\\site-packages\\pandas\\core\\apply.py:979\u001b[0m, in \u001b[0;36mFrameApply.apply_series_generator\u001b[1;34m(self)\u001b[0m\n\u001b[0;32m    976\u001b[0m \u001b[38;5;28;01mwith\u001b[39;00m option_context(\u001b[38;5;124m\"\u001b[39m\u001b[38;5;124mmode.chained_assignment\u001b[39m\u001b[38;5;124m\"\u001b[39m, \u001b[38;5;28;01mNone\u001b[39;00m):\n\u001b[0;32m    977\u001b[0m     \u001b[38;5;28;01mfor\u001b[39;00m i, v \u001b[38;5;129;01min\u001b[39;00m \u001b[38;5;28menumerate\u001b[39m(series_gen):\n\u001b[0;32m    978\u001b[0m         \u001b[38;5;66;03m# ignore SettingWithCopy here in case the user mutates\u001b[39;00m\n\u001b[1;32m--> 979\u001b[0m         results[i] \u001b[38;5;241m=\u001b[39m \u001b[38;5;28;43mself\u001b[39;49m\u001b[38;5;241;43m.\u001b[39;49m\u001b[43mfunc\u001b[49m\u001b[43m(\u001b[49m\u001b[43mv\u001b[49m\u001b[43m,\u001b[49m\u001b[43m \u001b[49m\u001b[38;5;241;43m*\u001b[39;49m\u001b[38;5;28;43mself\u001b[39;49m\u001b[38;5;241;43m.\u001b[39;49m\u001b[43margs\u001b[49m\u001b[43m,\u001b[49m\u001b[43m \u001b[49m\u001b[38;5;241;43m*\u001b[39;49m\u001b[38;5;241;43m*\u001b[39;49m\u001b[38;5;28;43mself\u001b[39;49m\u001b[38;5;241;43m.\u001b[39;49m\u001b[43mkwargs\u001b[49m\u001b[43m)\u001b[49m\n\u001b[0;32m    980\u001b[0m         \u001b[38;5;28;01mif\u001b[39;00m \u001b[38;5;28misinstance\u001b[39m(results[i], ABCSeries):\n\u001b[0;32m    981\u001b[0m             \u001b[38;5;66;03m# If we have a view on v, we need to make a copy because\u001b[39;00m\n\u001b[0;32m    982\u001b[0m             \u001b[38;5;66;03m#  series_generator will swap out the underlying data\u001b[39;00m\n\u001b[0;32m    983\u001b[0m             results[i] \u001b[38;5;241m=\u001b[39m results[i]\u001b[38;5;241m.\u001b[39mcopy(deep\u001b[38;5;241m=\u001b[39m\u001b[38;5;28;01mFalse\u001b[39;00m)\n",
      "Cell \u001b[1;32mIn[70], line 2\u001b[0m, in \u001b[0;36m<lambda>\u001b[1;34m(row)\u001b[0m\n\u001b[0;32m      1\u001b[0m \u001b[38;5;66;03m# Apply the function to each row in the DataFrame\u001b[39;00m\n\u001b[1;32m----> 2\u001b[0m trip_bot_df\u001b[38;5;241m.\u001b[39mapply(\u001b[38;5;28;01mlambda\u001b[39;00m row: \u001b[43mgenerate_reviews\u001b[49m\u001b[43m(\u001b[49m\u001b[43magent\u001b[49m\u001b[43m,\u001b[49m\u001b[43m \u001b[49m\u001b[43mrow\u001b[49m\u001b[43m,\u001b[49m\u001b[43m \u001b[49m\u001b[43mcopy_customer\u001b[49m\u001b[43m,\u001b[49m\u001b[43m \u001b[49m\u001b[43mrating_columns\u001b[49m\u001b[43m)\u001b[49m, axis \u001b[38;5;241m=\u001b[39m \u001b[38;5;241m1\u001b[39m)\n",
      "Cell \u001b[1;32mIn[59], line 20\u001b[0m, in \u001b[0;36mgenerate_reviews\u001b[1;34m(row, agent, copy_customer, rating_columns)\u001b[0m\n\u001b[0;32m     17\u001b[0m review_question \u001b[38;5;241m=\u001b[39m \u001b[38;5;124mf\u001b[39m\u001b[38;5;124m'\u001b[39m\u001b[38;5;124m... your review_question ...\u001b[39m\u001b[38;5;124m'\u001b[39m\n\u001b[0;32m     19\u001b[0m \u001b[38;5;66;03m# Check if row has 3 or fewer reviews\u001b[39;00m\n\u001b[1;32m---> 20\u001b[0m \u001b[38;5;28;01mif\u001b[39;00m \u001b[43mrow\u001b[49m\u001b[43m[\u001b[49m\u001b[38;5;124;43m'\u001b[39;49m\u001b[38;5;124;43mReviewsNo\u001b[39;49m\u001b[38;5;124;43m'\u001b[39;49m\u001b[43m]\u001b[49m \u001b[38;5;241m<\u001b[39m\u001b[38;5;241m=\u001b[39m \u001b[38;5;241m3\u001b[39m:\n\u001b[0;32m     21\u001b[0m     \u001b[38;5;66;03m# For loop for the number of reviews\u001b[39;00m\n\u001b[0;32m     22\u001b[0m     \u001b[38;5;28;01mfor\u001b[39;00m i \u001b[38;5;129;01min\u001b[39;00m \u001b[38;5;28mrange\u001b[39m(row[\u001b[38;5;124m'\u001b[39m\u001b[38;5;124mReviewsNo\u001b[39m\u001b[38;5;124m'\u001b[39m]):\n\u001b[0;32m     23\u001b[0m         \u001b[38;5;66;03m# Choose random customer\u001b[39;00m\n\u001b[0;32m     24\u001b[0m         customer \u001b[38;5;241m=\u001b[39m customer_df\u001b[38;5;241m.\u001b[39msample(n\u001b[38;5;241m=\u001b[39m\u001b[38;5;241m1\u001b[39m)\n",
      "\u001b[1;31mTypeError\u001b[0m: 'AgentExecutor' object is not subscriptable"
     ]
    }
   ],
   "source": [
    "# Apply the function to each row in the DataFrame\n",
    "trip_bot_df.apply(lambda row: generate_reviews(agent, row, copy_customer, rating_columns), axis = 1)"
   ]
  }
 ],
 "metadata": {
  "kernelspec": {
   "display_name": "env",
   "language": "python",
   "name": "python3"
  },
  "language_info": {
   "codemirror_mode": {
    "name": "ipython",
    "version": 3
   },
   "file_extension": ".py",
   "mimetype": "text/x-python",
   "name": "python",
   "nbconvert_exporter": "python",
   "pygments_lexer": "ipython3",
   "version": "3.11.5"
  }
 },
 "nbformat": 4,
 "nbformat_minor": 2
}
